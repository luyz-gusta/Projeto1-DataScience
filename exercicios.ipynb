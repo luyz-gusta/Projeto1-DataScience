{
 "cells": [
  {
   "cell_type": "markdown",
   "metadata": {},
   "source": [
    "# Projeto 1 - Data Science\n"
   ]
  },
  {
   "cell_type": "code",
   "execution_count": 110,
   "metadata": {},
   "outputs": [],
   "source": [
    "import pandas as pd\n",
    "dfMarvelDc = pd.read_csv('./csv/marvel_dc.csv')\n",
    "dfCorinthians = pd.read_csv('./csv/corinthians.csv')\n",
    "dfFilmes = pd.read_csv('./csv/filmes.csv')"
   ]
  },
  {
   "cell_type": "markdown",
   "metadata": {},
   "source": [
    "## Marvel e DC"
   ]
  },
  {
   "cell_type": "code",
   "execution_count": 111,
   "metadata": {},
   "outputs": [
    {
     "name": "stdout",
     "output_type": "stream",
     "text": [
      "1️⃣ Liste todos os heróis da editora Marvel.\n"
     ]
    },
    {
     "data": {
      "text/html": [
       "<div>\n",
       "<style scoped>\n",
       "    .dataframe tbody tr th:only-of-type {\n",
       "        vertical-align: middle;\n",
       "    }\n",
       "\n",
       "    .dataframe tbody tr th {\n",
       "        vertical-align: top;\n",
       "    }\n",
       "\n",
       "    .dataframe thead th {\n",
       "        text-align: right;\n",
       "    }\n",
       "</style>\n",
       "<table border=\"1\" class=\"dataframe\">\n",
       "  <thead>\n",
       "    <tr style=\"text-align: right;\">\n",
       "      <th></th>\n",
       "      <th>Nome</th>\n",
       "      <th>Editora</th>\n",
       "      <th>Ano_Estreia</th>\n",
       "      <th>Força</th>\n",
       "      <th>Inteligência</th>\n",
       "      <th>Velocidade</th>\n",
       "    </tr>\n",
       "  </thead>\n",
       "  <tbody>\n",
       "    <tr>\n",
       "      <th>3</th>\n",
       "      <td>Homem de Ferro</td>\n",
       "      <td>Marvel</td>\n",
       "      <td>1963</td>\n",
       "      <td>90</td>\n",
       "      <td>100</td>\n",
       "      <td>88</td>\n",
       "    </tr>\n",
       "    <tr>\n",
       "      <th>4</th>\n",
       "      <td>Capitão América</td>\n",
       "      <td>Marvel</td>\n",
       "      <td>1941</td>\n",
       "      <td>92</td>\n",
       "      <td>85</td>\n",
       "      <td>84</td>\n",
       "    </tr>\n",
       "    <tr>\n",
       "      <th>5</th>\n",
       "      <td>Hulk</td>\n",
       "      <td>Marvel</td>\n",
       "      <td>1962</td>\n",
       "      <td>100</td>\n",
       "      <td>80</td>\n",
       "      <td>75</td>\n",
       "    </tr>\n",
       "    <tr>\n",
       "      <th>7</th>\n",
       "      <td>Thor</td>\n",
       "      <td>Marvel</td>\n",
       "      <td>1962</td>\n",
       "      <td>100</td>\n",
       "      <td>90</td>\n",
       "      <td>90</td>\n",
       "    </tr>\n",
       "    <tr>\n",
       "      <th>9</th>\n",
       "      <td>Homem-Aranha</td>\n",
       "      <td>Marvel</td>\n",
       "      <td>1962</td>\n",
       "      <td>89</td>\n",
       "      <td>85</td>\n",
       "      <td>95</td>\n",
       "    </tr>\n",
       "  </tbody>\n",
       "</table>\n",
       "</div>"
      ],
      "text/plain": [
       "              Nome Editora  Ano_Estreia  Força  Inteligência  Velocidade\n",
       "3   Homem de Ferro  Marvel         1963     90           100          88\n",
       "4  Capitão América  Marvel         1941     92            85          84\n",
       "5             Hulk  Marvel         1962    100            80          75\n",
       "7             Thor  Marvel         1962    100            90          90\n",
       "9     Homem-Aranha  Marvel         1962     89            85          95"
      ]
     },
     "execution_count": 111,
     "metadata": {},
     "output_type": "execute_result"
    }
   ],
   "source": [
    "print('1️⃣ Liste todos os heróis da editora Marvel.')\n",
    "dfMarvelDc[dfMarvelDc['Editora'] == 'Marvel']"
   ]
  },
  {
   "cell_type": "code",
   "execution_count": 31,
   "metadata": {},
   "outputs": [
    {
     "name": "stdout",
     "output_type": "stream",
     "text": [
      "2️⃣ Qual é o herói mais antigo da lista?\n"
     ]
    },
    {
     "data": {
      "text/html": [
       "<div>\n",
       "<style scoped>\n",
       "    .dataframe tbody tr th:only-of-type {\n",
       "        vertical-align: middle;\n",
       "    }\n",
       "\n",
       "    .dataframe tbody tr th {\n",
       "        vertical-align: top;\n",
       "    }\n",
       "\n",
       "    .dataframe thead th {\n",
       "        text-align: right;\n",
       "    }\n",
       "</style>\n",
       "<table border=\"1\" class=\"dataframe\">\n",
       "  <thead>\n",
       "    <tr style=\"text-align: right;\">\n",
       "      <th></th>\n",
       "      <th>Nome</th>\n",
       "      <th>Editora</th>\n",
       "      <th>Ano_Estreia</th>\n",
       "      <th>Força</th>\n",
       "      <th>Inteligência</th>\n",
       "      <th>Velocidade</th>\n",
       "    </tr>\n",
       "  </thead>\n",
       "  <tbody>\n",
       "    <tr>\n",
       "      <th>1</th>\n",
       "      <td>Superman</td>\n",
       "      <td>DC</td>\n",
       "      <td>1938</td>\n",
       "      <td>100</td>\n",
       "      <td>90</td>\n",
       "      <td>100</td>\n",
       "    </tr>\n",
       "  </tbody>\n",
       "</table>\n",
       "</div>"
      ],
      "text/plain": [
       "       Nome Editora  Ano_Estreia  Força  Inteligência  Velocidade\n",
       "1  Superman      DC         1938    100            90         100"
      ]
     },
     "execution_count": 31,
     "metadata": {},
     "output_type": "execute_result"
    }
   ],
   "source": [
    "print('2️⃣ Qual é o herói mais antigo da lista?')\n",
    "dfMarvelDc[dfMarvelDc['Ano_Estreia'] == dfMarvelDc['Ano_Estreia'].min()]"
   ]
  },
  {
   "cell_type": "code",
   "execution_count": 32,
   "metadata": {},
   "outputs": [
    {
     "name": "stdout",
     "output_type": "stream",
     "text": [
      "3️⃣ Qual é a média de força dos heróis da DC?\n"
     ]
    },
    {
     "data": {
      "text/plain": [
       "90.8"
      ]
     },
     "execution_count": 32,
     "metadata": {},
     "output_type": "execute_result"
    }
   ],
   "source": [
    "print('3️⃣ Qual é a média de força dos heróis da DC?')\n",
    "float(dfMarvelDc[dfMarvelDc['Editora'] == 'DC']['Força'].mean().astype(float))\n"
   ]
  },
  {
   "cell_type": "code",
   "execution_count": 33,
   "metadata": {},
   "outputs": [
    {
     "name": "stdout",
     "output_type": "stream",
     "text": [
      "4️⃣ Qual editora tem a maior média de inteligência entre os heróis?\n",
      "DC: 90.4\n"
     ]
    }
   ],
   "source": [
    "print('4️⃣ Qual editora tem a maior média de inteligência entre os heróis?')\n",
    "inteligenciaDC = float(dfMarvelDc[dfMarvelDc['Editora'] == 'DC']['Inteligência'].mean().astype(float))\n",
    "inteligenciaMarvel = float(dfMarvelDc[dfMarvelDc['Editora'] == 'Marvel']['Inteligência'].mean().astype(float))\n",
    "\n",
    "if(inteligenciaDC > inteligenciaMarvel):\n",
    "    print(f'DC: {inteligenciaDC}')\n",
    "else:\n",
    "    print(f'Marvel: {inteligenciaMarvel}')\n"
   ]
  },
  {
   "cell_type": "code",
   "execution_count": 34,
   "metadata": {},
   "outputs": [
    {
     "name": "stdout",
     "output_type": "stream",
     "text": [
      "5️⃣ Qual é o herói mais veloz?\n"
     ]
    },
    {
     "data": {
      "text/html": [
       "<div>\n",
       "<style scoped>\n",
       "    .dataframe tbody tr th:only-of-type {\n",
       "        vertical-align: middle;\n",
       "    }\n",
       "\n",
       "    .dataframe tbody tr th {\n",
       "        vertical-align: top;\n",
       "    }\n",
       "\n",
       "    .dataframe thead th {\n",
       "        text-align: right;\n",
       "    }\n",
       "</style>\n",
       "<table border=\"1\" class=\"dataframe\">\n",
       "  <thead>\n",
       "    <tr style=\"text-align: right;\">\n",
       "      <th></th>\n",
       "      <th>Nome</th>\n",
       "      <th>Editora</th>\n",
       "      <th>Ano_Estreia</th>\n",
       "      <th>Força</th>\n",
       "      <th>Inteligência</th>\n",
       "      <th>Velocidade</th>\n",
       "    </tr>\n",
       "  </thead>\n",
       "  <tbody>\n",
       "    <tr>\n",
       "      <th>1</th>\n",
       "      <td>Superman</td>\n",
       "      <td>DC</td>\n",
       "      <td>1938</td>\n",
       "      <td>100</td>\n",
       "      <td>90</td>\n",
       "      <td>100</td>\n",
       "    </tr>\n",
       "    <tr>\n",
       "      <th>6</th>\n",
       "      <td>Flash</td>\n",
       "      <td>DC</td>\n",
       "      <td>1956</td>\n",
       "      <td>88</td>\n",
       "      <td>88</td>\n",
       "      <td>100</td>\n",
       "    </tr>\n",
       "  </tbody>\n",
       "</table>\n",
       "</div>"
      ],
      "text/plain": [
       "       Nome Editora  Ano_Estreia  Força  Inteligência  Velocidade\n",
       "1  Superman      DC         1938    100            90         100\n",
       "6     Flash      DC         1956     88            88         100"
      ]
     },
     "execution_count": 34,
     "metadata": {},
     "output_type": "execute_result"
    }
   ],
   "source": [
    "print('5️⃣ Qual é o herói mais veloz?')\n",
    "dfMarvelDc[dfMarvelDc['Velocidade'] == dfMarvelDc['Velocidade'].max()]"
   ]
  },
  {
   "cell_type": "code",
   "execution_count": 35,
   "metadata": {},
   "outputs": [
    {
     "name": "stdout",
     "output_type": "stream",
     "text": [
      "6️⃣ Quantos heróis estrearam antes de 1960?\n"
     ]
    },
    {
     "data": {
      "text/html": [
       "<div>\n",
       "<style scoped>\n",
       "    .dataframe tbody tr th:only-of-type {\n",
       "        vertical-align: middle;\n",
       "    }\n",
       "\n",
       "    .dataframe tbody tr th {\n",
       "        vertical-align: top;\n",
       "    }\n",
       "\n",
       "    .dataframe thead th {\n",
       "        text-align: right;\n",
       "    }\n",
       "</style>\n",
       "<table border=\"1\" class=\"dataframe\">\n",
       "  <thead>\n",
       "    <tr style=\"text-align: right;\">\n",
       "      <th></th>\n",
       "      <th>Nome</th>\n",
       "      <th>Editora</th>\n",
       "      <th>Ano_Estreia</th>\n",
       "      <th>Força</th>\n",
       "      <th>Inteligência</th>\n",
       "      <th>Velocidade</th>\n",
       "    </tr>\n",
       "  </thead>\n",
       "  <tbody>\n",
       "    <tr>\n",
       "      <th>0</th>\n",
       "      <td>Batman</td>\n",
       "      <td>DC</td>\n",
       "      <td>1939</td>\n",
       "      <td>85</td>\n",
       "      <td>100</td>\n",
       "      <td>80</td>\n",
       "    </tr>\n",
       "    <tr>\n",
       "      <th>1</th>\n",
       "      <td>Superman</td>\n",
       "      <td>DC</td>\n",
       "      <td>1938</td>\n",
       "      <td>100</td>\n",
       "      <td>90</td>\n",
       "      <td>100</td>\n",
       "    </tr>\n",
       "    <tr>\n",
       "      <th>2</th>\n",
       "      <td>Mulher-Maravilha</td>\n",
       "      <td>DC</td>\n",
       "      <td>1941</td>\n",
       "      <td>95</td>\n",
       "      <td>92</td>\n",
       "      <td>85</td>\n",
       "    </tr>\n",
       "    <tr>\n",
       "      <th>4</th>\n",
       "      <td>Capitão América</td>\n",
       "      <td>Marvel</td>\n",
       "      <td>1941</td>\n",
       "      <td>92</td>\n",
       "      <td>85</td>\n",
       "      <td>84</td>\n",
       "    </tr>\n",
       "    <tr>\n",
       "      <th>6</th>\n",
       "      <td>Flash</td>\n",
       "      <td>DC</td>\n",
       "      <td>1956</td>\n",
       "      <td>88</td>\n",
       "      <td>88</td>\n",
       "      <td>100</td>\n",
       "    </tr>\n",
       "    <tr>\n",
       "      <th>8</th>\n",
       "      <td>Aquaman</td>\n",
       "      <td>DC</td>\n",
       "      <td>1941</td>\n",
       "      <td>86</td>\n",
       "      <td>82</td>\n",
       "      <td>85</td>\n",
       "    </tr>\n",
       "  </tbody>\n",
       "</table>\n",
       "</div>"
      ],
      "text/plain": [
       "               Nome Editora  Ano_Estreia  Força  Inteligência  Velocidade\n",
       "0            Batman      DC         1939     85           100          80\n",
       "1          Superman      DC         1938    100            90         100\n",
       "2  Mulher-Maravilha      DC         1941     95            92          85\n",
       "4   Capitão América  Marvel         1941     92            85          84\n",
       "6             Flash      DC         1956     88            88         100\n",
       "8           Aquaman      DC         1941     86            82          85"
      ]
     },
     "execution_count": 35,
     "metadata": {},
     "output_type": "execute_result"
    }
   ],
   "source": [
    "print('6️⃣ Quantos heróis estrearam antes de 1960?')\n",
    "dfMarvelDc[dfMarvelDc['Ano_Estreia'] < 1960]"
   ]
  },
  {
   "cell_type": "code",
   "execution_count": 38,
   "metadata": {},
   "outputs": [
    {
     "name": "stdout",
     "output_type": "stream",
     "text": [
      "7️⃣ Qual é a soma total da força dos heróis da Marvel?\n"
     ]
    },
    {
     "data": {
      "text/plain": [
       "471"
      ]
     },
     "execution_count": 38,
     "metadata": {},
     "output_type": "execute_result"
    }
   ],
   "source": [
    "print('7️⃣ Qual é a soma total da força dos heróis da Marvel?')\n",
    "int(dfMarvelDc[dfMarvelDc['Editora'] == 'Marvel']['Força'].sum())"
   ]
  },
  {
   "cell_type": "code",
   "execution_count": 39,
   "metadata": {},
   "outputs": [
    {
     "name": "stdout",
     "output_type": "stream",
     "text": [
      "8️⃣ Liste os heróis em ordem decrescente de velocidade.\n"
     ]
    },
    {
     "data": {
      "text/html": [
       "<div>\n",
       "<style scoped>\n",
       "    .dataframe tbody tr th:only-of-type {\n",
       "        vertical-align: middle;\n",
       "    }\n",
       "\n",
       "    .dataframe tbody tr th {\n",
       "        vertical-align: top;\n",
       "    }\n",
       "\n",
       "    .dataframe thead th {\n",
       "        text-align: right;\n",
       "    }\n",
       "</style>\n",
       "<table border=\"1\" class=\"dataframe\">\n",
       "  <thead>\n",
       "    <tr style=\"text-align: right;\">\n",
       "      <th></th>\n",
       "      <th>Nome</th>\n",
       "      <th>Editora</th>\n",
       "      <th>Ano_Estreia</th>\n",
       "      <th>Força</th>\n",
       "      <th>Inteligência</th>\n",
       "      <th>Velocidade</th>\n",
       "    </tr>\n",
       "  </thead>\n",
       "  <tbody>\n",
       "    <tr>\n",
       "      <th>1</th>\n",
       "      <td>Superman</td>\n",
       "      <td>DC</td>\n",
       "      <td>1938</td>\n",
       "      <td>100</td>\n",
       "      <td>90</td>\n",
       "      <td>100</td>\n",
       "    </tr>\n",
       "    <tr>\n",
       "      <th>6</th>\n",
       "      <td>Flash</td>\n",
       "      <td>DC</td>\n",
       "      <td>1956</td>\n",
       "      <td>88</td>\n",
       "      <td>88</td>\n",
       "      <td>100</td>\n",
       "    </tr>\n",
       "    <tr>\n",
       "      <th>9</th>\n",
       "      <td>Homem-Aranha</td>\n",
       "      <td>Marvel</td>\n",
       "      <td>1962</td>\n",
       "      <td>89</td>\n",
       "      <td>85</td>\n",
       "      <td>95</td>\n",
       "    </tr>\n",
       "    <tr>\n",
       "      <th>7</th>\n",
       "      <td>Thor</td>\n",
       "      <td>Marvel</td>\n",
       "      <td>1962</td>\n",
       "      <td>100</td>\n",
       "      <td>90</td>\n",
       "      <td>90</td>\n",
       "    </tr>\n",
       "    <tr>\n",
       "      <th>3</th>\n",
       "      <td>Homem de Ferro</td>\n",
       "      <td>Marvel</td>\n",
       "      <td>1963</td>\n",
       "      <td>90</td>\n",
       "      <td>100</td>\n",
       "      <td>88</td>\n",
       "    </tr>\n",
       "    <tr>\n",
       "      <th>2</th>\n",
       "      <td>Mulher-Maravilha</td>\n",
       "      <td>DC</td>\n",
       "      <td>1941</td>\n",
       "      <td>95</td>\n",
       "      <td>92</td>\n",
       "      <td>85</td>\n",
       "    </tr>\n",
       "    <tr>\n",
       "      <th>8</th>\n",
       "      <td>Aquaman</td>\n",
       "      <td>DC</td>\n",
       "      <td>1941</td>\n",
       "      <td>86</td>\n",
       "      <td>82</td>\n",
       "      <td>85</td>\n",
       "    </tr>\n",
       "    <tr>\n",
       "      <th>4</th>\n",
       "      <td>Capitão América</td>\n",
       "      <td>Marvel</td>\n",
       "      <td>1941</td>\n",
       "      <td>92</td>\n",
       "      <td>85</td>\n",
       "      <td>84</td>\n",
       "    </tr>\n",
       "    <tr>\n",
       "      <th>0</th>\n",
       "      <td>Batman</td>\n",
       "      <td>DC</td>\n",
       "      <td>1939</td>\n",
       "      <td>85</td>\n",
       "      <td>100</td>\n",
       "      <td>80</td>\n",
       "    </tr>\n",
       "    <tr>\n",
       "      <th>5</th>\n",
       "      <td>Hulk</td>\n",
       "      <td>Marvel</td>\n",
       "      <td>1962</td>\n",
       "      <td>100</td>\n",
       "      <td>80</td>\n",
       "      <td>75</td>\n",
       "    </tr>\n",
       "  </tbody>\n",
       "</table>\n",
       "</div>"
      ],
      "text/plain": [
       "               Nome Editora  Ano_Estreia  Força  Inteligência  Velocidade\n",
       "1          Superman      DC         1938    100            90         100\n",
       "6             Flash      DC         1956     88            88         100\n",
       "9      Homem-Aranha  Marvel         1962     89            85          95\n",
       "7              Thor  Marvel         1962    100            90          90\n",
       "3    Homem de Ferro  Marvel         1963     90           100          88\n",
       "2  Mulher-Maravilha      DC         1941     95            92          85\n",
       "8           Aquaman      DC         1941     86            82          85\n",
       "4   Capitão América  Marvel         1941     92            85          84\n",
       "0            Batman      DC         1939     85           100          80\n",
       "5              Hulk  Marvel         1962    100            80          75"
      ]
     },
     "execution_count": 39,
     "metadata": {},
     "output_type": "execute_result"
    }
   ],
   "source": [
    "print('8️⃣ Liste os heróis em ordem decrescente de velocidade.')\n",
    "dfMarvelDc.sort_values(by='Velocidade',ascending=False)"
   ]
  },
  {
   "cell_type": "code",
   "execution_count": 41,
   "metadata": {},
   "outputs": [
    {
     "name": "stdout",
     "output_type": "stream",
     "text": [
      "9️⃣ Qual é a média de estreia dos heróis da DC?\n"
     ]
    },
    {
     "data": {
      "text/plain": [
       "1943"
      ]
     },
     "execution_count": 41,
     "metadata": {},
     "output_type": "execute_result"
    }
   ],
   "source": [
    "print('9️⃣ Qual é a média de estreia dos heróis da DC?')\n",
    "int(dfMarvelDc[dfMarvelDc['Editora'] == 'DC']['Ano_Estreia'].mean())\n"
   ]
  },
  {
   "cell_type": "code",
   "execution_count": 68,
   "metadata": {},
   "outputs": [
    {
     "name": "stdout",
     "output_type": "stream",
     "text": [
      "🔟 Qual o nome do herói mais forte entre todos?\n"
     ]
    },
    {
     "data": {
      "text/html": [
       "<div>\n",
       "<style scoped>\n",
       "    .dataframe tbody tr th:only-of-type {\n",
       "        vertical-align: middle;\n",
       "    }\n",
       "\n",
       "    .dataframe tbody tr th {\n",
       "        vertical-align: top;\n",
       "    }\n",
       "\n",
       "    .dataframe thead th {\n",
       "        text-align: right;\n",
       "    }\n",
       "</style>\n",
       "<table border=\"1\" class=\"dataframe\">\n",
       "  <thead>\n",
       "    <tr style=\"text-align: right;\">\n",
       "      <th></th>\n",
       "      <th>Nome</th>\n",
       "      <th>Overall</th>\n",
       "    </tr>\n",
       "  </thead>\n",
       "  <tbody>\n",
       "    <tr>\n",
       "      <th>1</th>\n",
       "      <td>Superman</td>\n",
       "      <td>290</td>\n",
       "    </tr>\n",
       "  </tbody>\n",
       "</table>\n",
       "</div>"
      ],
      "text/plain": [
       "       Nome  Overall\n",
       "1  Superman      290"
      ]
     },
     "execution_count": 68,
     "metadata": {},
     "output_type": "execute_result"
    }
   ],
   "source": [
    "print('🔟 Qual o nome do herói mais forte entre todos?')\n",
    "dfMarvelDc['Overall'] =(dfMarvelDc['Força'] + dfMarvelDc['Inteligência'] + dfMarvelDc['Velocidade'])\n",
    "\n",
    "dfMarvelDc.loc[dfMarvelDc['Overall'] == dfMarvelDc['Overall'].max(), ['Nome', 'Overall']]"
   ]
  },
  {
   "cell_type": "markdown",
   "metadata": {},
   "source": [
    "## Filmes"
   ]
  },
  {
   "cell_type": "code",
   "execution_count": 83,
   "metadata": {},
   "outputs": [
    {
     "name": "stdout",
     "output_type": "stream",
     "text": [
      "1️⃣ Liste os filmes do gênero 'Ficção Científica'.\n"
     ]
    },
    {
     "data": {
      "text/html": [
       "<div>\n",
       "<style scoped>\n",
       "    .dataframe tbody tr th:only-of-type {\n",
       "        vertical-align: middle;\n",
       "    }\n",
       "\n",
       "    .dataframe tbody tr th {\n",
       "        vertical-align: top;\n",
       "    }\n",
       "\n",
       "    .dataframe thead th {\n",
       "        text-align: right;\n",
       "    }\n",
       "</style>\n",
       "<table border=\"1\" class=\"dataframe\">\n",
       "  <thead>\n",
       "    <tr style=\"text-align: right;\">\n",
       "      <th></th>\n",
       "      <th>Título</th>\n",
       "      <th>Ano</th>\n",
       "      <th>Bilheteria_Mundial</th>\n",
       "      <th>Nota_IMDb</th>\n",
       "      <th>Duração_Minutos</th>\n",
       "      <th>Gênero</th>\n",
       "    </tr>\n",
       "  </thead>\n",
       "  <tbody>\n",
       "    <tr>\n",
       "      <th>2</th>\n",
       "      <td>Interestelar</td>\n",
       "      <td>2014</td>\n",
       "      <td>701</td>\n",
       "      <td>8.6</td>\n",
       "      <td>169</td>\n",
       "      <td>Ficção Científica</td>\n",
       "    </tr>\n",
       "    <tr>\n",
       "      <th>3</th>\n",
       "      <td>Matrix</td>\n",
       "      <td>1999</td>\n",
       "      <td>466</td>\n",
       "      <td>8.7</td>\n",
       "      <td>136</td>\n",
       "      <td>Ficção Científica</td>\n",
       "    </tr>\n",
       "    <tr>\n",
       "      <th>9</th>\n",
       "      <td>Duna</td>\n",
       "      <td>2021</td>\n",
       "      <td>402</td>\n",
       "      <td>8.0</td>\n",
       "      <td>155</td>\n",
       "      <td>Ficção Científica</td>\n",
       "    </tr>\n",
       "  </tbody>\n",
       "</table>\n",
       "</div>"
      ],
      "text/plain": [
       "         Título   Ano  Bilheteria_Mundial  Nota_IMDb  Duração_Minutos  \\\n",
       "2  Interestelar  2014                 701        8.6              169   \n",
       "3        Matrix  1999                 466        8.7              136   \n",
       "9          Duna  2021                 402        8.0              155   \n",
       "\n",
       "              Gênero  \n",
       "2  Ficção Científica  \n",
       "3  Ficção Científica  \n",
       "9  Ficção Científica  "
      ]
     },
     "execution_count": 83,
     "metadata": {},
     "output_type": "execute_result"
    }
   ],
   "source": [
    "print(\"1️⃣ Liste os filmes do gênero 'Ficção Científica'.\")\n",
    "dfFilmes[dfFilmes['Gênero'] == 'Ficção Científica']"
   ]
  },
  {
   "cell_type": "code",
   "execution_count": 84,
   "metadata": {},
   "outputs": [
    {
     "name": "stdout",
     "output_type": "stream",
     "text": [
      "2️⃣ Qual é o filme mais antigo da lista?\n"
     ]
    },
    {
     "data": {
      "text/html": [
       "<div>\n",
       "<style scoped>\n",
       "    .dataframe tbody tr th:only-of-type {\n",
       "        vertical-align: middle;\n",
       "    }\n",
       "\n",
       "    .dataframe tbody tr th {\n",
       "        vertical-align: top;\n",
       "    }\n",
       "\n",
       "    .dataframe thead th {\n",
       "        text-align: right;\n",
       "    }\n",
       "</style>\n",
       "<table border=\"1\" class=\"dataframe\">\n",
       "  <thead>\n",
       "    <tr style=\"text-align: right;\">\n",
       "      <th></th>\n",
       "      <th>Título</th>\n",
       "      <th>Ano</th>\n",
       "      <th>Bilheteria_Mundial</th>\n",
       "      <th>Nota_IMDb</th>\n",
       "      <th>Duração_Minutos</th>\n",
       "      <th>Gênero</th>\n",
       "    </tr>\n",
       "  </thead>\n",
       "  <tbody>\n",
       "    <tr>\n",
       "      <th>0</th>\n",
       "      <td>O Poderoso Chefão</td>\n",
       "      <td>1972</td>\n",
       "      <td>287</td>\n",
       "      <td>9.2</td>\n",
       "      <td>175</td>\n",
       "      <td>Crime</td>\n",
       "    </tr>\n",
       "  </tbody>\n",
       "</table>\n",
       "</div>"
      ],
      "text/plain": [
       "              Título   Ano  Bilheteria_Mundial  Nota_IMDb  Duração_Minutos  \\\n",
       "0  O Poderoso Chefão  1972                 287        9.2              175   \n",
       "\n",
       "  Gênero  \n",
       "0  Crime  "
      ]
     },
     "execution_count": 84,
     "metadata": {},
     "output_type": "execute_result"
    }
   ],
   "source": [
    "print(\"2️⃣ Qual é o filme mais antigo da lista?\")\n",
    "dfFilmes[dfFilmes['Ano'] == dfFilmes['Ano'].min()]"
   ]
  },
  {
   "cell_type": "code",
   "execution_count": 87,
   "metadata": {},
   "outputs": [
    {
     "name": "stdout",
     "output_type": "stream",
     "text": [
      "3️⃣ Qual é a média de bilheteria dos filmes da lista?\n"
     ]
    },
    {
     "data": {
      "text/plain": [
       "1114.6"
      ]
     },
     "execution_count": 87,
     "metadata": {},
     "output_type": "execute_result"
    }
   ],
   "source": [
    "print(\"3️⃣ Qual é a média de bilheteria dos filmes da lista?\")\n",
    "float(dfFilmes['Bilheteria_Mundial'].mean())"
   ]
  },
  {
   "cell_type": "code",
   "execution_count": 88,
   "metadata": {},
   "outputs": [
    {
     "name": "stdout",
     "output_type": "stream",
     "text": [
      "4️⃣ Qual foi o filme com a maior nota no IMDb?\n"
     ]
    },
    {
     "data": {
      "text/html": [
       "<div>\n",
       "<style scoped>\n",
       "    .dataframe tbody tr th:only-of-type {\n",
       "        vertical-align: middle;\n",
       "    }\n",
       "\n",
       "    .dataframe tbody tr th {\n",
       "        vertical-align: top;\n",
       "    }\n",
       "\n",
       "    .dataframe thead th {\n",
       "        text-align: right;\n",
       "    }\n",
       "</style>\n",
       "<table border=\"1\" class=\"dataframe\">\n",
       "  <thead>\n",
       "    <tr style=\"text-align: right;\">\n",
       "      <th></th>\n",
       "      <th>Título</th>\n",
       "      <th>Ano</th>\n",
       "      <th>Bilheteria_Mundial</th>\n",
       "      <th>Nota_IMDb</th>\n",
       "      <th>Duração_Minutos</th>\n",
       "      <th>Gênero</th>\n",
       "    </tr>\n",
       "  </thead>\n",
       "  <tbody>\n",
       "    <tr>\n",
       "      <th>0</th>\n",
       "      <td>O Poderoso Chefão</td>\n",
       "      <td>1972</td>\n",
       "      <td>287</td>\n",
       "      <td>9.2</td>\n",
       "      <td>175</td>\n",
       "      <td>Crime</td>\n",
       "    </tr>\n",
       "  </tbody>\n",
       "</table>\n",
       "</div>"
      ],
      "text/plain": [
       "              Título   Ano  Bilheteria_Mundial  Nota_IMDb  Duração_Minutos  \\\n",
       "0  O Poderoso Chefão  1972                 287        9.2              175   \n",
       "\n",
       "  Gênero  \n",
       "0  Crime  "
      ]
     },
     "execution_count": 88,
     "metadata": {},
     "output_type": "execute_result"
    }
   ],
   "source": [
    "print(\"4️⃣ Qual foi o filme com a maior nota no IMDb?\")\n",
    "dfFilmes[dfFilmes['Nota_IMDb'] == dfFilmes['Nota_IMDb'].max()]"
   ]
  },
  {
   "cell_type": "code",
   "execution_count": 89,
   "metadata": {},
   "outputs": [
    {
     "name": "stdout",
     "output_type": "stream",
     "text": [
      "5️⃣ Liste os filmes em ordem decrescente de duração.\n"
     ]
    },
    {
     "data": {
      "text/html": [
       "<div>\n",
       "<style scoped>\n",
       "    .dataframe tbody tr th:only-of-type {\n",
       "        vertical-align: middle;\n",
       "    }\n",
       "\n",
       "    .dataframe tbody tr th {\n",
       "        vertical-align: top;\n",
       "    }\n",
       "\n",
       "    .dataframe thead th {\n",
       "        text-align: right;\n",
       "    }\n",
       "</style>\n",
       "<table border=\"1\" class=\"dataframe\">\n",
       "  <thead>\n",
       "    <tr style=\"text-align: right;\">\n",
       "      <th></th>\n",
       "      <th>Título</th>\n",
       "      <th>Ano</th>\n",
       "      <th>Bilheteria_Mundial</th>\n",
       "      <th>Nota_IMDb</th>\n",
       "      <th>Duração_Minutos</th>\n",
       "      <th>Gênero</th>\n",
       "    </tr>\n",
       "  </thead>\n",
       "  <tbody>\n",
       "    <tr>\n",
       "      <th>1</th>\n",
       "      <td>Titanic</td>\n",
       "      <td>1997</td>\n",
       "      <td>2187</td>\n",
       "      <td>7.8</td>\n",
       "      <td>195</td>\n",
       "      <td>Romance</td>\n",
       "    </tr>\n",
       "    <tr>\n",
       "      <th>4</th>\n",
       "      <td>Vingadores: Ultimato</td>\n",
       "      <td>2019</td>\n",
       "      <td>2798</td>\n",
       "      <td>8.4</td>\n",
       "      <td>181</td>\n",
       "      <td>Ação</td>\n",
       "    </tr>\n",
       "    <tr>\n",
       "      <th>7</th>\n",
       "      <td>O Senhor dos Anéis</td>\n",
       "      <td>2001</td>\n",
       "      <td>2917</td>\n",
       "      <td>8.8</td>\n",
       "      <td>178</td>\n",
       "      <td>Fantasia</td>\n",
       "    </tr>\n",
       "    <tr>\n",
       "      <th>0</th>\n",
       "      <td>O Poderoso Chefão</td>\n",
       "      <td>1972</td>\n",
       "      <td>287</td>\n",
       "      <td>9.2</td>\n",
       "      <td>175</td>\n",
       "      <td>Crime</td>\n",
       "    </tr>\n",
       "    <tr>\n",
       "      <th>2</th>\n",
       "      <td>Interestelar</td>\n",
       "      <td>2014</td>\n",
       "      <td>701</td>\n",
       "      <td>8.6</td>\n",
       "      <td>169</td>\n",
       "      <td>Ficção Científica</td>\n",
       "    </tr>\n",
       "    <tr>\n",
       "      <th>9</th>\n",
       "      <td>Duna</td>\n",
       "      <td>2021</td>\n",
       "      <td>402</td>\n",
       "      <td>8.0</td>\n",
       "      <td>155</td>\n",
       "      <td>Ficção Científica</td>\n",
       "    </tr>\n",
       "    <tr>\n",
       "      <th>6</th>\n",
       "      <td>Pulp Fiction</td>\n",
       "      <td>1994</td>\n",
       "      <td>213</td>\n",
       "      <td>8.9</td>\n",
       "      <td>154</td>\n",
       "      <td>Crime</td>\n",
       "    </tr>\n",
       "    <tr>\n",
       "      <th>5</th>\n",
       "      <td>Clube da Luta</td>\n",
       "      <td>1999</td>\n",
       "      <td>101</td>\n",
       "      <td>8.8</td>\n",
       "      <td>139</td>\n",
       "      <td>Drama</td>\n",
       "    </tr>\n",
       "    <tr>\n",
       "      <th>3</th>\n",
       "      <td>Matrix</td>\n",
       "      <td>1999</td>\n",
       "      <td>466</td>\n",
       "      <td>8.7</td>\n",
       "      <td>136</td>\n",
       "      <td>Ficção Científica</td>\n",
       "    </tr>\n",
       "    <tr>\n",
       "      <th>8</th>\n",
       "      <td>Coringa</td>\n",
       "      <td>2019</td>\n",
       "      <td>1074</td>\n",
       "      <td>8.4</td>\n",
       "      <td>122</td>\n",
       "      <td>Drama</td>\n",
       "    </tr>\n",
       "  </tbody>\n",
       "</table>\n",
       "</div>"
      ],
      "text/plain": [
       "                 Título   Ano  Bilheteria_Mundial  Nota_IMDb  Duração_Minutos  \\\n",
       "1               Titanic  1997                2187        7.8              195   \n",
       "4  Vingadores: Ultimato  2019                2798        8.4              181   \n",
       "7    O Senhor dos Anéis  2001                2917        8.8              178   \n",
       "0     O Poderoso Chefão  1972                 287        9.2              175   \n",
       "2          Interestelar  2014                 701        8.6              169   \n",
       "9                  Duna  2021                 402        8.0              155   \n",
       "6          Pulp Fiction  1994                 213        8.9              154   \n",
       "5         Clube da Luta  1999                 101        8.8              139   \n",
       "3                Matrix  1999                 466        8.7              136   \n",
       "8               Coringa  2019                1074        8.4              122   \n",
       "\n",
       "              Gênero  \n",
       "1            Romance  \n",
       "4               Ação  \n",
       "7           Fantasia  \n",
       "0              Crime  \n",
       "2  Ficção Científica  \n",
       "9  Ficção Científica  \n",
       "6              Crime  \n",
       "5              Drama  \n",
       "3  Ficção Científica  \n",
       "8              Drama  "
      ]
     },
     "execution_count": 89,
     "metadata": {},
     "output_type": "execute_result"
    }
   ],
   "source": [
    "print(\"5️⃣ Liste os filmes em ordem decrescente de duração.\")\n",
    "dfFilmes.sort_values(by='Duração_Minutos',ascending=False)"
   ]
  },
  {
   "cell_type": "code",
   "execution_count": 91,
   "metadata": {},
   "outputs": [
    {
     "name": "stdout",
     "output_type": "stream",
     "text": [
      "6️⃣ Qual é a soma total da bilheteria mundial de todos os filmes?\n"
     ]
    },
    {
     "data": {
      "text/plain": [
       "11146"
      ]
     },
     "execution_count": 91,
     "metadata": {},
     "output_type": "execute_result"
    }
   ],
   "source": [
    "print(\"6️⃣ Qual é a soma total da bilheteria mundial de todos os filmes?\")\n",
    "int(dfFilmes['Bilheteria_Mundial'].sum())"
   ]
  },
  {
   "cell_type": "code",
   "execution_count": 92,
   "metadata": {},
   "outputs": [
    {
     "name": "stdout",
     "output_type": "stream",
     "text": [
      "7️⃣ Qual filme teve menos de 150 minutos de duração?\n"
     ]
    },
    {
     "data": {
      "text/html": [
       "<div>\n",
       "<style scoped>\n",
       "    .dataframe tbody tr th:only-of-type {\n",
       "        vertical-align: middle;\n",
       "    }\n",
       "\n",
       "    .dataframe tbody tr th {\n",
       "        vertical-align: top;\n",
       "    }\n",
       "\n",
       "    .dataframe thead th {\n",
       "        text-align: right;\n",
       "    }\n",
       "</style>\n",
       "<table border=\"1\" class=\"dataframe\">\n",
       "  <thead>\n",
       "    <tr style=\"text-align: right;\">\n",
       "      <th></th>\n",
       "      <th>Título</th>\n",
       "      <th>Ano</th>\n",
       "      <th>Bilheteria_Mundial</th>\n",
       "      <th>Nota_IMDb</th>\n",
       "      <th>Duração_Minutos</th>\n",
       "      <th>Gênero</th>\n",
       "    </tr>\n",
       "  </thead>\n",
       "  <tbody>\n",
       "    <tr>\n",
       "      <th>3</th>\n",
       "      <td>Matrix</td>\n",
       "      <td>1999</td>\n",
       "      <td>466</td>\n",
       "      <td>8.7</td>\n",
       "      <td>136</td>\n",
       "      <td>Ficção Científica</td>\n",
       "    </tr>\n",
       "    <tr>\n",
       "      <th>5</th>\n",
       "      <td>Clube da Luta</td>\n",
       "      <td>1999</td>\n",
       "      <td>101</td>\n",
       "      <td>8.8</td>\n",
       "      <td>139</td>\n",
       "      <td>Drama</td>\n",
       "    </tr>\n",
       "    <tr>\n",
       "      <th>8</th>\n",
       "      <td>Coringa</td>\n",
       "      <td>2019</td>\n",
       "      <td>1074</td>\n",
       "      <td>8.4</td>\n",
       "      <td>122</td>\n",
       "      <td>Drama</td>\n",
       "    </tr>\n",
       "  </tbody>\n",
       "</table>\n",
       "</div>"
      ],
      "text/plain": [
       "          Título   Ano  Bilheteria_Mundial  Nota_IMDb  Duração_Minutos  \\\n",
       "3         Matrix  1999                 466        8.7              136   \n",
       "5  Clube da Luta  1999                 101        8.8              139   \n",
       "8        Coringa  2019                1074        8.4              122   \n",
       "\n",
       "              Gênero  \n",
       "3  Ficção Científica  \n",
       "5              Drama  \n",
       "8              Drama  "
      ]
     },
     "execution_count": 92,
     "metadata": {},
     "output_type": "execute_result"
    }
   ],
   "source": [
    "print(\"7️⃣ Qual filme teve menos de 150 minutos de duração?\")\n",
    "dfFilmes[dfFilmes['Duração_Minutos'] < 150]"
   ]
  },
  {
   "cell_type": "code",
   "execution_count": 93,
   "metadata": {},
   "outputs": [
    {
     "name": "stdout",
     "output_type": "stream",
     "text": [
      "8️⃣ Liste os filmes lançados depois do ano 2000.\n"
     ]
    },
    {
     "data": {
      "text/html": [
       "<div>\n",
       "<style scoped>\n",
       "    .dataframe tbody tr th:only-of-type {\n",
       "        vertical-align: middle;\n",
       "    }\n",
       "\n",
       "    .dataframe tbody tr th {\n",
       "        vertical-align: top;\n",
       "    }\n",
       "\n",
       "    .dataframe thead th {\n",
       "        text-align: right;\n",
       "    }\n",
       "</style>\n",
       "<table border=\"1\" class=\"dataframe\">\n",
       "  <thead>\n",
       "    <tr style=\"text-align: right;\">\n",
       "      <th></th>\n",
       "      <th>Título</th>\n",
       "      <th>Ano</th>\n",
       "      <th>Bilheteria_Mundial</th>\n",
       "      <th>Nota_IMDb</th>\n",
       "      <th>Duração_Minutos</th>\n",
       "      <th>Gênero</th>\n",
       "    </tr>\n",
       "  </thead>\n",
       "  <tbody>\n",
       "    <tr>\n",
       "      <th>2</th>\n",
       "      <td>Interestelar</td>\n",
       "      <td>2014</td>\n",
       "      <td>701</td>\n",
       "      <td>8.6</td>\n",
       "      <td>169</td>\n",
       "      <td>Ficção Científica</td>\n",
       "    </tr>\n",
       "    <tr>\n",
       "      <th>4</th>\n",
       "      <td>Vingadores: Ultimato</td>\n",
       "      <td>2019</td>\n",
       "      <td>2798</td>\n",
       "      <td>8.4</td>\n",
       "      <td>181</td>\n",
       "      <td>Ação</td>\n",
       "    </tr>\n",
       "    <tr>\n",
       "      <th>7</th>\n",
       "      <td>O Senhor dos Anéis</td>\n",
       "      <td>2001</td>\n",
       "      <td>2917</td>\n",
       "      <td>8.8</td>\n",
       "      <td>178</td>\n",
       "      <td>Fantasia</td>\n",
       "    </tr>\n",
       "    <tr>\n",
       "      <th>8</th>\n",
       "      <td>Coringa</td>\n",
       "      <td>2019</td>\n",
       "      <td>1074</td>\n",
       "      <td>8.4</td>\n",
       "      <td>122</td>\n",
       "      <td>Drama</td>\n",
       "    </tr>\n",
       "    <tr>\n",
       "      <th>9</th>\n",
       "      <td>Duna</td>\n",
       "      <td>2021</td>\n",
       "      <td>402</td>\n",
       "      <td>8.0</td>\n",
       "      <td>155</td>\n",
       "      <td>Ficção Científica</td>\n",
       "    </tr>\n",
       "  </tbody>\n",
       "</table>\n",
       "</div>"
      ],
      "text/plain": [
       "                 Título   Ano  Bilheteria_Mundial  Nota_IMDb  Duração_Minutos  \\\n",
       "2          Interestelar  2014                 701        8.6              169   \n",
       "4  Vingadores: Ultimato  2019                2798        8.4              181   \n",
       "7    O Senhor dos Anéis  2001                2917        8.8              178   \n",
       "8               Coringa  2019                1074        8.4              122   \n",
       "9                  Duna  2021                 402        8.0              155   \n",
       "\n",
       "              Gênero  \n",
       "2  Ficção Científica  \n",
       "4               Ação  \n",
       "7           Fantasia  \n",
       "8              Drama  \n",
       "9  Ficção Científica  "
      ]
     },
     "execution_count": 93,
     "metadata": {},
     "output_type": "execute_result"
    }
   ],
   "source": [
    "print(\"8️⃣ Liste os filmes lançados depois do ano 2000.\")\n",
    "dfFilmes[dfFilmes['Ano'] > 2000]"
   ]
  },
  {
   "cell_type": "code",
   "execution_count": 98,
   "metadata": {},
   "outputs": [
    {
     "name": "stdout",
     "output_type": "stream",
     "text": [
      "9️⃣ Qual a duração média dos filmes na lista?\n"
     ]
    },
    {
     "data": {
      "text/plain": [
       "160.4"
      ]
     },
     "execution_count": 98,
     "metadata": {},
     "output_type": "execute_result"
    }
   ],
   "source": [
    "print(\"9️⃣ Qual a duração média dos filmes na lista?\")\n",
    "float(dfFilmes['Duração_Minutos'].mean())"
   ]
  },
  {
   "cell_type": "code",
   "execution_count": 102,
   "metadata": {},
   "outputs": [
    {
     "name": "stdout",
     "output_type": "stream",
     "text": [
      "🔟 Qual é o filme de maior bilheteria mundial?\n"
     ]
    },
    {
     "data": {
      "text/html": [
       "<div>\n",
       "<style scoped>\n",
       "    .dataframe tbody tr th:only-of-type {\n",
       "        vertical-align: middle;\n",
       "    }\n",
       "\n",
       "    .dataframe tbody tr th {\n",
       "        vertical-align: top;\n",
       "    }\n",
       "\n",
       "    .dataframe thead th {\n",
       "        text-align: right;\n",
       "    }\n",
       "</style>\n",
       "<table border=\"1\" class=\"dataframe\">\n",
       "  <thead>\n",
       "    <tr style=\"text-align: right;\">\n",
       "      <th></th>\n",
       "      <th>Título</th>\n",
       "      <th>Ano</th>\n",
       "      <th>Bilheteria_Mundial</th>\n",
       "      <th>Nota_IMDb</th>\n",
       "      <th>Duração_Minutos</th>\n",
       "      <th>Gênero</th>\n",
       "    </tr>\n",
       "  </thead>\n",
       "  <tbody>\n",
       "    <tr>\n",
       "      <th>7</th>\n",
       "      <td>O Senhor dos Anéis</td>\n",
       "      <td>2001</td>\n",
       "      <td>2917</td>\n",
       "      <td>8.8</td>\n",
       "      <td>178</td>\n",
       "      <td>Fantasia</td>\n",
       "    </tr>\n",
       "  </tbody>\n",
       "</table>\n",
       "</div>"
      ],
      "text/plain": [
       "               Título   Ano  Bilheteria_Mundial  Nota_IMDb  Duração_Minutos  \\\n",
       "7  O Senhor dos Anéis  2001                2917        8.8              178   \n",
       "\n",
       "     Gênero  \n",
       "7  Fantasia  "
      ]
     },
     "execution_count": 102,
     "metadata": {},
     "output_type": "execute_result"
    }
   ],
   "source": [
    "print(\"🔟 Qual é o filme de maior bilheteria mundial?\")\n",
    "dfFilmes[dfFilmes['Bilheteria_Mundial'].max() == dfFilmes['Bilheteria_Mundial'] ]"
   ]
  },
  {
   "cell_type": "markdown",
   "metadata": {},
   "source": [
    "## Corithians\n"
   ]
  },
  {
   "cell_type": "code",
   "execution_count": 13,
   "metadata": {},
   "outputs": [
    {
     "name": "stdout",
     "output_type": "stream",
     "text": [
      "O ano com mais vitórias do Corinthians foi 2022, com 36 vitórias.\n"
     ]
    }
   ],
   "source": [
    "#11. Qual foi o ano com mais vitórias do Corinthians?\n",
    "\n",
    "max_vitorias = dfCorinthians['Vitórias'].idxmax()\n",
    "numero_vitorias = dfCorinthians['Vitórias'].max()\n",
    "ano_com_mais_vitorias = int(dfCorinthians.loc[max_vitorias, 'Ano'])\n",
    "ano_com_mais_vitorias\n",
    "print(f'O ano com mais vitórias do Corinthians foi {ano_com_mais_vitorias}, com {numero_vitorias} vitórias.')\n"
   ]
  },
  {
   "cell_type": "code",
   "execution_count": 14,
   "metadata": {},
   "outputs": [
    {
     "data": {
      "text/html": [
       "<div>\n",
       "<style scoped>\n",
       "    .dataframe tbody tr th:only-of-type {\n",
       "        vertical-align: middle;\n",
       "    }\n",
       "\n",
       "    .dataframe tbody tr th {\n",
       "        vertical-align: top;\n",
       "    }\n",
       "\n",
       "    .dataframe thead th {\n",
       "        text-align: right;\n",
       "    }\n",
       "</style>\n",
       "<table border=\"1\" class=\"dataframe\">\n",
       "  <thead>\n",
       "    <tr style=\"text-align: right;\">\n",
       "      <th></th>\n",
       "      <th>Ano</th>\n",
       "      <th>saldo_gols</th>\n",
       "    </tr>\n",
       "  </thead>\n",
       "  <tbody>\n",
       "    <tr>\n",
       "      <th>0</th>\n",
       "      <td>2015</td>\n",
       "      <td>0.830508</td>\n",
       "    </tr>\n",
       "    <tr>\n",
       "      <th>1</th>\n",
       "      <td>2016</td>\n",
       "      <td>2.931034</td>\n",
       "    </tr>\n",
       "    <tr>\n",
       "      <th>2</th>\n",
       "      <td>2017</td>\n",
       "      <td>1.414634</td>\n",
       "    </tr>\n",
       "    <tr>\n",
       "      <th>3</th>\n",
       "      <td>2018</td>\n",
       "      <td>1.034483</td>\n",
       "    </tr>\n",
       "    <tr>\n",
       "      <th>4</th>\n",
       "      <td>2019</td>\n",
       "      <td>1.689655</td>\n",
       "    </tr>\n",
       "    <tr>\n",
       "      <th>5</th>\n",
       "      <td>2020</td>\n",
       "      <td>1.469388</td>\n",
       "    </tr>\n",
       "    <tr>\n",
       "      <th>6</th>\n",
       "      <td>2021</td>\n",
       "      <td>3.500000</td>\n",
       "    </tr>\n",
       "    <tr>\n",
       "      <th>7</th>\n",
       "      <td>2022</td>\n",
       "      <td>2.058824</td>\n",
       "    </tr>\n",
       "    <tr>\n",
       "      <th>8</th>\n",
       "      <td>2023</td>\n",
       "      <td>0.770833</td>\n",
       "    </tr>\n",
       "    <tr>\n",
       "      <th>9</th>\n",
       "      <td>2024</td>\n",
       "      <td>1.854167</td>\n",
       "    </tr>\n",
       "  </tbody>\n",
       "</table>\n",
       "</div>"
      ],
      "text/plain": [
       "    Ano  saldo_gols\n",
       "0  2015    0.830508\n",
       "1  2016    2.931034\n",
       "2  2017    1.414634\n",
       "3  2018    1.034483\n",
       "4  2019    1.689655\n",
       "5  2020    1.469388\n",
       "6  2021    3.500000\n",
       "7  2022    2.058824\n",
       "8  2023    0.770833\n",
       "9  2024    1.854167"
      ]
     },
     "execution_count": 14,
     "metadata": {},
     "output_type": "execute_result"
    }
   ],
   "source": [
    "#12. Qual foi o saldo de gols (gols marcados - gols sofridos) em cada ano??\n",
    "\n",
    "dfCorinthians['saldo_gols'] = dfCorinthians['Gols_Marcados'] / dfCorinthians['Gols_Sofridos']\n",
    "anos_lista = dfCorinthians['Ano']\n",
    "dfCorinthians[['Ano','saldo_gols']]"
   ]
  },
  {
   "cell_type": "code",
   "execution_count": 15,
   "metadata": {},
   "outputs": [
    {
     "name": "stdout",
     "output_type": "stream",
     "text": [
      "A média de posição do Corinthians nos campeonatos é de 12.3.\n"
     ]
    }
   ],
   "source": [
    "#13. Qual a média de posição do Corinthians nos campeonatos?\n",
    "\n",
    "df_soma_posicao = dfCorinthians['Posição_Campeonato'].sum() / dfCorinthians['Posição_Campeonato'].count()\n",
    "df_posicao_media = df_soma_posicao.mean()\n",
    "print(f'A média de posição do Corinthians nos campeonatos é de {df_posicao_media}.')"
   ]
  },
  {
   "cell_type": "code",
   "execution_count": 16,
   "metadata": {},
   "outputs": [
    {
     "name": "stdout",
     "output_type": "stream",
     "text": [
      "O ano com mais derrotas do Corinthians foi 2018, com 14 derrotas.\n"
     ]
    }
   ],
   "source": [
    "#14. Qual ano teve o menor número de derrotas?\n",
    "\n",
    "max_derrotas = dfCorinthians['Derrotas'].idxmax()\n",
    "numero_derrotas = dfCorinthians['Derrotas'].max()\n",
    "ano_com_mais_derrotas = int(dfCorinthians.loc[max_derrotas, 'Ano'])\n",
    "ano_com_mais_derrotas\n",
    "print(f'O ano com mais derrotas do Corinthians foi {ano_com_mais_derrotas}, com {numero_derrotas} derrotas.')"
   ]
  },
  {
   "cell_type": "code",
   "execution_count": 17,
   "metadata": {},
   "outputs": [
    {
     "data": {
      "text/html": [
       "<div>\n",
       "<style scoped>\n",
       "    .dataframe tbody tr th:only-of-type {\n",
       "        vertical-align: middle;\n",
       "    }\n",
       "\n",
       "    .dataframe tbody tr th {\n",
       "        vertical-align: top;\n",
       "    }\n",
       "\n",
       "    .dataframe thead th {\n",
       "        text-align: right;\n",
       "    }\n",
       "</style>\n",
       "<table border=\"1\" class=\"dataframe\">\n",
       "  <thead>\n",
       "    <tr style=\"text-align: right;\">\n",
       "      <th></th>\n",
       "      <th>Ano</th>\n",
       "      <th>Gols_Marcados</th>\n",
       "    </tr>\n",
       "  </thead>\n",
       "  <tbody>\n",
       "    <tr>\n",
       "      <th>1</th>\n",
       "      <td>2016</td>\n",
       "      <td>85</td>\n",
       "    </tr>\n",
       "    <tr>\n",
       "      <th>5</th>\n",
       "      <td>2020</td>\n",
       "      <td>72</td>\n",
       "    </tr>\n",
       "    <tr>\n",
       "      <th>6</th>\n",
       "      <td>2021</td>\n",
       "      <td>70</td>\n",
       "    </tr>\n",
       "    <tr>\n",
       "      <th>7</th>\n",
       "      <td>2022</td>\n",
       "      <td>70</td>\n",
       "    </tr>\n",
       "    <tr>\n",
       "      <th>9</th>\n",
       "      <td>2024</td>\n",
       "      <td>89</td>\n",
       "    </tr>\n",
       "  </tbody>\n",
       "</table>\n",
       "</div>"
      ],
      "text/plain": [
       "    Ano  Gols_Marcados\n",
       "1  2016             85\n",
       "5  2020             72\n",
       "6  2021             70\n",
       "7  2022             70\n",
       "9  2024             89"
      ]
     },
     "execution_count": 17,
     "metadata": {},
     "output_type": "execute_result"
    }
   ],
   "source": [
    "#15. Em quais anos o Corinthians marcou mais de 60 gols?\n",
    "\n",
    "df_lista_conringao_vitorias_60 = dfCorinthians[dfCorinthians['Gols_Marcados'] >= 60]\n",
    "df_lista_conringao_vitorias_60[['Ano','Gols_Marcados']]"
   ]
  },
  {
   "cell_type": "code",
   "execution_count": 18,
   "metadata": {},
   "outputs": [
    {
     "data": {
      "text/html": [
       "<div>\n",
       "<style scoped>\n",
       "    .dataframe tbody tr th:only-of-type {\n",
       "        vertical-align: middle;\n",
       "    }\n",
       "\n",
       "    .dataframe tbody tr th {\n",
       "        vertical-align: top;\n",
       "    }\n",
       "\n",
       "    .dataframe thead th {\n",
       "        text-align: right;\n",
       "    }\n",
       "</style>\n",
       "<table border=\"1\" class=\"dataframe\">\n",
       "  <thead>\n",
       "    <tr style=\"text-align: right;\">\n",
       "      <th></th>\n",
       "      <th>Ano</th>\n",
       "      <th>taxa_vitorias</th>\n",
       "    </tr>\n",
       "  </thead>\n",
       "  <tbody>\n",
       "    <tr>\n",
       "      <th>0</th>\n",
       "      <td>2015</td>\n",
       "      <td>49.180328</td>\n",
       "    </tr>\n",
       "    <tr>\n",
       "      <th>1</th>\n",
       "      <td>2016</td>\n",
       "      <td>64.285714</td>\n",
       "    </tr>\n",
       "    <tr>\n",
       "      <th>2</th>\n",
       "      <td>2017</td>\n",
       "      <td>50.724638</td>\n",
       "    </tr>\n",
       "    <tr>\n",
       "      <th>3</th>\n",
       "      <td>2018</td>\n",
       "      <td>57.446809</td>\n",
       "    </tr>\n",
       "    <tr>\n",
       "      <th>4</th>\n",
       "      <td>2019</td>\n",
       "      <td>58.928571</td>\n",
       "    </tr>\n",
       "    <tr>\n",
       "      <th>5</th>\n",
       "      <td>2020</td>\n",
       "      <td>71.111111</td>\n",
       "    </tr>\n",
       "    <tr>\n",
       "      <th>6</th>\n",
       "      <td>2021</td>\n",
       "      <td>71.428571</td>\n",
       "    </tr>\n",
       "    <tr>\n",
       "      <th>7</th>\n",
       "      <td>2022</td>\n",
       "      <td>90.000000</td>\n",
       "    </tr>\n",
       "    <tr>\n",
       "      <th>8</th>\n",
       "      <td>2023</td>\n",
       "      <td>56.603774</td>\n",
       "    </tr>\n",
       "    <tr>\n",
       "      <th>9</th>\n",
       "      <td>2024</td>\n",
       "      <td>34.375000</td>\n",
       "    </tr>\n",
       "  </tbody>\n",
       "</table>\n",
       "</div>"
      ],
      "text/plain": [
       "    Ano  taxa_vitorias\n",
       "0  2015      49.180328\n",
       "1  2016      64.285714\n",
       "2  2017      50.724638\n",
       "3  2018      57.446809\n",
       "4  2019      58.928571\n",
       "5  2020      71.111111\n",
       "6  2021      71.428571\n",
       "7  2022      90.000000\n",
       "8  2023      56.603774\n",
       "9  2024      34.375000"
      ]
     },
     "execution_count": 18,
     "metadata": {},
     "output_type": "execute_result"
    }
   ],
   "source": [
    "#16. Qual foi a taxa de vitórias (%) por ano?\n",
    "\n",
    "dfCorinthians['taxa_vitorias'] = (dfCorinthians['Vitórias'] / dfCorinthians['Jogos']) * 100\n",
    "dfCorinthians[['Ano','taxa_vitorias']]\n"
   ]
  },
  {
   "cell_type": "code",
   "execution_count": 19,
   "metadata": {},
   "outputs": [
    {
     "data": {
      "text/html": [
       "<div>\n",
       "<style scoped>\n",
       "    .dataframe tbody tr th:only-of-type {\n",
       "        vertical-align: middle;\n",
       "    }\n",
       "\n",
       "    .dataframe tbody tr th {\n",
       "        vertical-align: top;\n",
       "    }\n",
       "\n",
       "    .dataframe thead th {\n",
       "        text-align: right;\n",
       "    }\n",
       "</style>\n",
       "<table border=\"1\" class=\"dataframe\">\n",
       "  <thead>\n",
       "    <tr style=\"text-align: right;\">\n",
       "      <th></th>\n",
       "      <th>Ano</th>\n",
       "      <th>pontos</th>\n",
       "    </tr>\n",
       "  </thead>\n",
       "  <tbody>\n",
       "    <tr>\n",
       "      <th>6</th>\n",
       "      <td>2021</td>\n",
       "      <td>109</td>\n",
       "    </tr>\n",
       "    <tr>\n",
       "      <th>2</th>\n",
       "      <td>2017</td>\n",
       "      <td>105</td>\n",
       "    </tr>\n",
       "    <tr>\n",
       "      <th>7</th>\n",
       "      <td>2022</td>\n",
       "      <td>105</td>\n",
       "    </tr>\n",
       "    <tr>\n",
       "      <th>4</th>\n",
       "      <td>2019</td>\n",
       "      <td>99</td>\n",
       "    </tr>\n",
       "    <tr>\n",
       "      <th>5</th>\n",
       "      <td>2020</td>\n",
       "      <td>98</td>\n",
       "    </tr>\n",
       "    <tr>\n",
       "      <th>0</th>\n",
       "      <td>2015</td>\n",
       "      <td>92</td>\n",
       "    </tr>\n",
       "    <tr>\n",
       "      <th>8</th>\n",
       "      <td>2023</td>\n",
       "      <td>89</td>\n",
       "    </tr>\n",
       "    <tr>\n",
       "      <th>1</th>\n",
       "      <td>2016</td>\n",
       "      <td>80</td>\n",
       "    </tr>\n",
       "    <tr>\n",
       "      <th>3</th>\n",
       "      <td>2018</td>\n",
       "      <td>78</td>\n",
       "    </tr>\n",
       "    <tr>\n",
       "      <th>9</th>\n",
       "      <td>2024</td>\n",
       "      <td>67</td>\n",
       "    </tr>\n",
       "  </tbody>\n",
       "</table>\n",
       "</div>"
      ],
      "text/plain": [
       "    Ano  pontos\n",
       "6  2021     109\n",
       "2  2017     105\n",
       "7  2022     105\n",
       "4  2019      99\n",
       "5  2020      98\n",
       "0  2015      92\n",
       "8  2023      89\n",
       "1  2016      80\n",
       "3  2018      78\n",
       "9  2024      67"
      ]
     },
     "execution_count": 19,
     "metadata": {},
     "output_type": "execute_result"
    }
   ],
   "source": [
    "#17. Liste os anos em ordem decrescente de pontos (Vitórias = 3 pontos, Empates = 1 ponto).\n",
    "\n",
    "dfCorinthians['pontos'] = (dfCorinthians['Vitórias'] * 3) + dfCorinthians['Empates'] + (dfCorinthians['Derrotas'] * -1)\n",
    "dfCorinthians_pontos_decrescente = dfCorinthians[['Ano','pontos']].sort_values(by='pontos', ascending=False)\n",
    "dfCorinthians_pontos_decrescente\n"
   ]
  },
  {
   "cell_type": "code",
   "execution_count": 20,
   "metadata": {},
   "outputs": [
    {
     "name": "stdout",
     "output_type": "stream",
     "text": [
      "o ano com a menor posição foi o ano de: 2020\n"
     ]
    }
   ],
   "source": [
    "#18. Qual foi a pior posição do Corinthians nesse período?\n",
    "\n",
    "df_index_posicao_menor = dfCorinthians['Posição_Campeonato'].idxmin()\n",
    "posicao_menor = dfCorinthians['Posição_Campeonato'].min()\n",
    "ano_posicao_menor = int(dfCorinthians.loc[df_index_posicao_menor, 'Ano'])\n",
    "print(f'o ano com a menor posição foi o ano de: {ano_posicao_menor}')"
   ]
  },
  {
   "cell_type": "code",
   "execution_count": 21,
   "metadata": {},
   "outputs": [
    {
     "name": "stdout",
     "output_type": "stream",
     "text": [
      "o ano com mais jogos foi o ano de: 2017\n"
     ]
    }
   ],
   "source": [
    "#19. Qual foi o ano com mais jogos disputados?\n",
    "\n",
    "df_index_ano_mais_jogos = dfCorinthians['Jogos'].idxmax()\n",
    "ano_com_mais_jogos = dfCorinthians['Jogos'].max()\n",
    "ano_com_mais_jogos_loc = int(dfCorinthians.loc[df_index_ano_mais_jogos, 'Ano'])\n",
    "print(f'o ano com mais jogos foi o ano de: {ano_com_mais_jogos_loc}')\n",
    "\n",
    "\n"
   ]
  },
  {
   "cell_type": "code",
   "execution_count": 22,
   "metadata": {},
   "outputs": [
    {
     "name": "stdout",
     "output_type": "stream",
     "text": [
      "o ano com mais gols sofridos foi o ano de: 2015\n"
     ]
    }
   ],
   "source": [
    "#20. Qual a média de gols sofridos por jogo em cada ano?\n",
    "\n",
    "df_index_ano_mais_gols_sofridos = dfCorinthians['Gols_Sofridos'].idxmax()\n",
    "ano_com_mais_gols_sofridos = dfCorinthians['Gols_Sofridos'].max()\n",
    "ano_com_mais_gols_sofridos_loc = int(dfCorinthians.loc[df_index_ano_mais_gols_sofridos, 'Ano'])\n",
    "print(f'o ano com mais gols sofridos foi o ano de: {ano_com_mais_gols_sofridos_loc}')"
   ]
  }
 ],
 "metadata": {
  "kernelspec": {
   "display_name": "Python 3",
   "language": "python",
   "name": "python3"
  },
  "language_info": {
   "codemirror_mode": {
    "name": "ipython",
    "version": 3
   },
   "file_extension": ".py",
   "mimetype": "text/x-python",
   "name": "python",
   "nbconvert_exporter": "python",
   "pygments_lexer": "ipython3",
   "version": "3.12.9"
  }
 },
 "nbformat": 4,
 "nbformat_minor": 2
}
